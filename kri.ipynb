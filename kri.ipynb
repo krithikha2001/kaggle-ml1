{
 "cells": [
  {
   "cell_type": "code",
   "execution_count": 1,
   "metadata": {
    "_cell_guid": "b1076dfc-b9ad-4769-8c92-a6c4dae69d19",
    "_uuid": "8f2839f25d086af736a60e9eeb907d3b93b6e0e5"
   },
   "outputs": [
    {
     "name": "stdout",
     "output_type": "stream",
     "text": [
      "/kaggle/input/titanic/train.csv\n",
      "/kaggle/input/titanic/gender_submission.csv\n",
      "/kaggle/input/titanic/test.csv\n"
     ]
    }
   ],
   "source": [
    "# This Python 3 environment comes with many helpful analytics libraries installed\n",
    "# It is defined by the kaggle/python Docker image: https://github.com/kaggle/docker-python\n",
    "# For example, here's several helpful packages to load\n",
    "\n",
    "import numpy as np # linear algebra\n",
    "import pandas as pd # data processing, CSV file I/O (e.g. pd.read_csv)\n",
    "\n",
    "# Input data files are available in the read-only \"../input/\" directory\n",
    "# For example, running this (by clicking run or pressing Shift+Enter) will list all files under the input directory\n",
    "\n",
    "import os\n",
    "for dirname, _, filenames in os.walk('/kaggle/input'):\n",
    "    for filename in filenames:\n",
    "        print(os.path.join(dirname, filename))\n",
    "\n",
    "# You can write up to 5GB to the current directory (/kaggle/working/) that gets preserved as output when you create a version using \"Save & Run All\" \n",
    "# You can also write temporary files to /kaggle/temp/, but they won't be saved outside of the current session\n",
    "\n",
    "\n",
    "\n",
    "\n",
    "\n",
    "\n",
    "\n",
    "\n",
    "\n",
    "\n",
    "\n",
    "\n"
   ]
  },
  {
   "cell_type": "code",
   "execution_count": 2,
   "metadata": {
    "_cell_guid": "79c7e3d0-c299-4dcb-8224-4455121ee9b0",
    "_uuid": "d629ff2d2480ee46fbb7e2d37f6b5fab8052498a"
   },
   "outputs": [
    {
     "name": "stdout",
     "output_type": "stream",
     "text": [
      "     PassengerId  Survived\n",
      "0            892         0\n",
      "1            893         0\n",
      "2            894         0\n",
      "3            895         0\n",
      "4            896         0\n",
      "..           ...       ...\n",
      "413         1305         0\n",
      "414         1306         1\n",
      "415         1307         0\n",
      "416         1308         0\n",
      "417         1309         0\n",
      "\n",
      "[418 rows x 2 columns]\n"
     ]
    },
    {
     "data": {
      "text/plain": [
       "0.8417508417508418"
      ]
     },
     "execution_count": 2,
     "metadata": {},
     "output_type": "execute_result"
    },
    {
     "data": {
      "image/png": "[encoded data removed]",
      "text/plain": [
       "<Figure size 432x288 with 1 Axes>"
      ]
     },
     "metadata": {
      "needs_background": "light"
     },
     "output_type": "display_data"
    }
   ],
   "source": [
    "\n",
    "from sklearn.ensemble import RandomForestClassifier\n",
    "train = pd.read_csv(\"/kaggle/input/titanic/train.csv\")\n",
    "test = pd.read_csv(\"/kaggle/input/titanic/test.csv\")\n",
    "import seaborn as sb\n",
    "import matplotlib.pyplot as plt\n",
    "sb.distplot(a=train[train['Survived']==1]['Pclass'],label='Alive')\n",
    "sb.distplot(a=train[train['Survived']==0]['Pclass'],label='Dead')\n",
    "plt.xticks([1,2,3])\n",
    "#survival depends on pclass\n",
    "\n",
    "#since age has null values\n",
    "test['Age'].replace(np.nan,np.median(test['Age'].dropna()),inplace=True)\n",
    "train['Age'].replace(np.nan,np.median(train['Age'].dropna()),inplace=True)\n",
    "train.head()\n",
    "\n",
    "train['Sex'].value_counts()\n",
    "#most men die than woman\n",
    "train['Embarked'].value_counts()\n",
    "#depends on embarked place\n",
    "\n",
    "sb.scatterplot(x=train['Survived'],y=train['SibSp'])\n",
    "sb.scatterplot(x=train['Survived'],y=train['Parch'],color=\"red\")\n",
    "\n",
    "from sklearn.ensemble import RandomForestClassifier\n",
    "coloum=[\"Pclass\", \"Sex\", \"SibSp\", \"Parch\",\"Age\",\"Embarked\"]\n",
    "X_test = pd.get_dummies(test[coloum])\n",
    "X_train = pd.get_dummies(train[coloum])\n",
    "\n",
    "y=train['Survived']  \n",
    "basic = RandomForestClassifier(n_estimators=100, max_depth=5, random_state=1)\n",
    "basic.fit(X_train, y)\n",
    "#training model\n",
    "y_pred = basic.predict(X_test)\n",
    "\n",
    "\n",
    "answer = pd.DataFrame({'PassengerId': test.PassengerId, 'Survived': y_pred})\n",
    "print(answer)\n",
    "\n",
    "basic.score(X_train,y)\n",
    "#answer.to_csv('my_submission.csv', index=False)\n",
    "\n",
    "\n"
   ]
  }
 ],
 "metadata": {
  "kernelspec": {
   "display_name": "Python 3",
   "language": "python",
   "name": "python3"
  },
  "language_info": {
   "codemirror_mode": {
    "name": "ipython",
    "version": 3
   },
   "file_extension": ".py",
   "mimetype": "text/x-python",
   "name": "python",
   "nbconvert_exporter": "python",
   "pygments_lexer": "ipython3",
   "version": "3.7.6"
  }
 },
 "nbformat": 4,
 "nbformat_minor": 4
}
